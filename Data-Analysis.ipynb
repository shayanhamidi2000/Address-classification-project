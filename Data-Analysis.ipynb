{
 "cells": [
  {
   "cell_type": "code",
   "execution_count": 197,
   "id": "f5d07879",
   "metadata": {},
   "outputs": [],
   "source": [
    "import pandas as pan\n",
    "pan.options.mode.chained_assignment = None\n",
    "import numpy as np\n",
    "import matplotlib.pyplot as plt\n",
    "from sklearn.model_selection import train_test_split\n",
    "from sklearn.model_selection import cross_val_score\n",
    "from sklearn.tree import DecisionTreeClassifier\n",
    "from sklearn.ensemble import RandomForestClassifier\n",
    "from sklearn.metrics import accuracy_score\n",
    "from sklearn.metrics import recall_score\n",
    "from sklearn.metrics import precision_score\n",
    "from sklearn.metrics import f1_score\n",
    "from sklearn.metrics import ConfusionMatrixDisplay"
   ]
  },
  {
   "cell_type": "markdown",
   "id": "80493d6d",
   "metadata": {},
   "source": [
    "# Pre-processing"
   ]
  },
  {
   "cell_type": "markdown",
   "id": "c9dcdeb5",
   "metadata": {},
   "source": [
    "### Joining data"
   ]
  },
  {
   "cell_type": "code",
   "execution_count": null,
   "id": "8c99d192",
   "metadata": {},
   "outputs": [],
   "source": [
    "raw_tx_features = pan.read_csv('tx_features_extract.csv')\n",
    "raw_tx_in_features = pan.read_csv('tx_in_features.csv')\n",
    "raw_tx_out_features = pan.read_csv('tx_out_features.csv')\n",
    "address_labels = pan.read_csv('address-labels.csv')"
   ]
  },
  {
   "cell_type": "code",
   "execution_count": 34,
   "id": "b784aad5",
   "metadata": {},
   "outputs": [],
   "source": [
    "merged_tx_in_tx_out = pan.merge(left= raw_tx_out_features, right= raw_tx_in_features, how=\"inner\", on=\"address\")\n",
    "merged_tx_in_tx_out_tx = pan.merge(left= merged_tx_in_tx_out, right= raw_tx_features, how=\"inner\", on=\"address\")\n",
    "raw_features = pan.merge(left= merged_tx_in_tx_out_tx, right= address_labels, how=\"inner\", on=\"address\")"
   ]
  },
  {
   "cell_type": "markdown",
   "id": "bb323a48",
   "metadata": {},
   "source": [
    "### Preprocessing after join"
   ]
  },
  {
   "cell_type": "code",
   "execution_count": 198,
   "id": "207f5d7d",
   "metadata": {},
   "outputs": [
    {
     "data": {
      "text/html": [
       "<div>\n",
       "<style scoped>\n",
       "    .dataframe tbody tr th:only-of-type {\n",
       "        vertical-align: middle;\n",
       "    }\n",
       "\n",
       "    .dataframe tbody tr th {\n",
       "        vertical-align: top;\n",
       "    }\n",
       "\n",
       "    .dataframe thead th {\n",
       "        text-align: right;\n",
       "    }\n",
       "</style>\n",
       "<table border=\"1\" class=\"dataframe\">\n",
       "  <thead>\n",
       "    <tr style=\"text-align: right;\">\n",
       "      <th></th>\n",
       "      <th>address</th>\n",
       "      <th>address_out_count</th>\n",
       "      <th>sum_spent</th>\n",
       "      <th>max_spent</th>\n",
       "      <th>min_spent</th>\n",
       "      <th>avg_spent</th>\n",
       "      <th>max_index</th>\n",
       "      <th>min_index</th>\n",
       "      <th>avg_index</th>\n",
       "      <th>address_in_count</th>\n",
       "      <th>...</th>\n",
       "      <th>tx_size_max</th>\n",
       "      <th>tx_size_min</th>\n",
       "      <th>tx_num_of_inp_avg</th>\n",
       "      <th>tx_num_of_inp_max</th>\n",
       "      <th>tx_num_of_inp_min</th>\n",
       "      <th>tx_num_of_out_avg</th>\n",
       "      <th>tx_num_of_out_max</th>\n",
       "      <th>tx_num_of_out_min</th>\n",
       "      <th>SW</th>\n",
       "      <th>label</th>\n",
       "    </tr>\n",
       "  </thead>\n",
       "  <tbody>\n",
       "    <tr>\n",
       "      <th>0</th>\n",
       "      <td>1129kyeRZLvvyt9wKXfszprCme5vUxPGEU</td>\n",
       "      <td>1</td>\n",
       "      <td>187029</td>\n",
       "      <td>187029</td>\n",
       "      <td>187029</td>\n",
       "      <td>187029.0</td>\n",
       "      <td>2</td>\n",
       "      <td>2</td>\n",
       "      <td>2.0</td>\n",
       "      <td>1</td>\n",
       "      <td>...</td>\n",
       "      <td>44296</td>\n",
       "      <td>44296</td>\n",
       "      <td>300.0</td>\n",
       "      <td>300</td>\n",
       "      <td>300</td>\n",
       "      <td>1.0</td>\n",
       "      <td>1</td>\n",
       "      <td>1</td>\n",
       "      <td>SA</td>\n",
       "      <td>Gambling</td>\n",
       "    </tr>\n",
       "    <tr>\n",
       "      <th>1</th>\n",
       "      <td>112agXBu72qPgYErvqqEqgRropHacJfH2p</td>\n",
       "      <td>1</td>\n",
       "      <td>20000000</td>\n",
       "      <td>20000000</td>\n",
       "      <td>20000000</td>\n",
       "      <td>20000000.0</td>\n",
       "      <td>0</td>\n",
       "      <td>0</td>\n",
       "      <td>0.0</td>\n",
       "      <td>1</td>\n",
       "      <td>...</td>\n",
       "      <td>14792</td>\n",
       "      <td>14792</td>\n",
       "      <td>100.0</td>\n",
       "      <td>100</td>\n",
       "      <td>100</td>\n",
       "      <td>1.0</td>\n",
       "      <td>1</td>\n",
       "      <td>1</td>\n",
       "      <td>SA</td>\n",
       "      <td>Gambling</td>\n",
       "    </tr>\n",
       "    <tr>\n",
       "      <th>2</th>\n",
       "      <td>112MpvBrfpEm6AQoUEZ6X5rGJDjCMWMzdU</td>\n",
       "      <td>1</td>\n",
       "      <td>120220</td>\n",
       "      <td>120220</td>\n",
       "      <td>120220</td>\n",
       "      <td>120220.0</td>\n",
       "      <td>0</td>\n",
       "      <td>0</td>\n",
       "      <td>0.0</td>\n",
       "      <td>1</td>\n",
       "      <td>...</td>\n",
       "      <td>21157</td>\n",
       "      <td>21157</td>\n",
       "      <td>132.0</td>\n",
       "      <td>132</td>\n",
       "      <td>132</td>\n",
       "      <td>2.0</td>\n",
       "      <td>2</td>\n",
       "      <td>2</td>\n",
       "      <td>SA</td>\n",
       "      <td>Cyber-Security Service</td>\n",
       "    </tr>\n",
       "    <tr>\n",
       "      <th>3</th>\n",
       "      <td>112THsEt2X7ih88ozzk9AraDCdyLT1Y7hT</td>\n",
       "      <td>1</td>\n",
       "      <td>784175</td>\n",
       "      <td>784175</td>\n",
       "      <td>784175</td>\n",
       "      <td>784175.0</td>\n",
       "      <td>1</td>\n",
       "      <td>1</td>\n",
       "      <td>1.0</td>\n",
       "      <td>1</td>\n",
       "      <td>...</td>\n",
       "      <td>44277</td>\n",
       "      <td>44277</td>\n",
       "      <td>300.0</td>\n",
       "      <td>300</td>\n",
       "      <td>300</td>\n",
       "      <td>1.0</td>\n",
       "      <td>1</td>\n",
       "      <td>1</td>\n",
       "      <td>SA</td>\n",
       "      <td>Gambling</td>\n",
       "    </tr>\n",
       "    <tr>\n",
       "      <th>4</th>\n",
       "      <td>1138ue28jT9N8dVn3SXLuBc9jCEPziCGF9</td>\n",
       "      <td>1</td>\n",
       "      <td>35543</td>\n",
       "      <td>35543</td>\n",
       "      <td>35543</td>\n",
       "      <td>35543.0</td>\n",
       "      <td>43</td>\n",
       "      <td>43</td>\n",
       "      <td>43.0</td>\n",
       "      <td>1</td>\n",
       "      <td>...</td>\n",
       "      <td>7561</td>\n",
       "      <td>7561</td>\n",
       "      <td>51.0</td>\n",
       "      <td>51</td>\n",
       "      <td>51</td>\n",
       "      <td>1.0</td>\n",
       "      <td>1</td>\n",
       "      <td>1</td>\n",
       "      <td>SA</td>\n",
       "      <td>Cyber-Security Service</td>\n",
       "    </tr>\n",
       "    <tr>\n",
       "      <th>...</th>\n",
       "      <td>...</td>\n",
       "      <td>...</td>\n",
       "      <td>...</td>\n",
       "      <td>...</td>\n",
       "      <td>...</td>\n",
       "      <td>...</td>\n",
       "      <td>...</td>\n",
       "      <td>...</td>\n",
       "      <td>...</td>\n",
       "      <td>...</td>\n",
       "      <td>...</td>\n",
       "      <td>...</td>\n",
       "      <td>...</td>\n",
       "      <td>...</td>\n",
       "      <td>...</td>\n",
       "      <td>...</td>\n",
       "      <td>...</td>\n",
       "      <td>...</td>\n",
       "      <td>...</td>\n",
       "      <td>...</td>\n",
       "      <td>...</td>\n",
       "    </tr>\n",
       "    <tr>\n",
       "      <th>57195</th>\n",
       "      <td>bc1qyh4rgftkll4gc7nz9wd2qvtqnpftrs7dxhzvex</td>\n",
       "      <td>1</td>\n",
       "      <td>233874369</td>\n",
       "      <td>233874369</td>\n",
       "      <td>233874369</td>\n",
       "      <td>233874369.0</td>\n",
       "      <td>183</td>\n",
       "      <td>183</td>\n",
       "      <td>183.0</td>\n",
       "      <td>1</td>\n",
       "      <td>...</td>\n",
       "      <td>13292</td>\n",
       "      <td>13292</td>\n",
       "      <td>2.0</td>\n",
       "      <td>2</td>\n",
       "      <td>2</td>\n",
       "      <td>395.0</td>\n",
       "      <td>395</td>\n",
       "      <td>395</td>\n",
       "      <td>SA</td>\n",
       "      <td>Mining Pool</td>\n",
       "    </tr>\n",
       "    <tr>\n",
       "      <th>57196</th>\n",
       "      <td>bc1qykuelp5454e78rf7e70q8qhtu5f5tm6sts066k</td>\n",
       "      <td>1</td>\n",
       "      <td>1444984</td>\n",
       "      <td>1444984</td>\n",
       "      <td>1444984</td>\n",
       "      <td>1444984.0</td>\n",
       "      <td>0</td>\n",
       "      <td>0</td>\n",
       "      <td>0.0</td>\n",
       "      <td>1</td>\n",
       "      <td>...</td>\n",
       "      <td>13695</td>\n",
       "      <td>13695</td>\n",
       "      <td>3.0</td>\n",
       "      <td>3</td>\n",
       "      <td>3</td>\n",
       "      <td>402.0</td>\n",
       "      <td>402</td>\n",
       "      <td>402</td>\n",
       "      <td>SA</td>\n",
       "      <td>Mining Pool</td>\n",
       "    </tr>\n",
       "    <tr>\n",
       "      <th>57197</th>\n",
       "      <td>bc1qyv35fd7zz59mcdv9npan630mjnv4qlsqfhfhcz</td>\n",
       "      <td>1</td>\n",
       "      <td>4121098</td>\n",
       "      <td>4121098</td>\n",
       "      <td>4121098</td>\n",
       "      <td>4121098.0</td>\n",
       "      <td>0</td>\n",
       "      <td>0</td>\n",
       "      <td>0.0</td>\n",
       "      <td>1</td>\n",
       "      <td>...</td>\n",
       "      <td>735</td>\n",
       "      <td>735</td>\n",
       "      <td>4.0</td>\n",
       "      <td>4</td>\n",
       "      <td>4</td>\n",
       "      <td>2.0</td>\n",
       "      <td>2</td>\n",
       "      <td>2</td>\n",
       "      <td>SA</td>\n",
       "      <td>Cyber-Security Service</td>\n",
       "    </tr>\n",
       "    <tr>\n",
       "      <th>57198</th>\n",
       "      <td>bc1qz9em0y32zaywfjrsg4ze244fww9fhxh2c9crak</td>\n",
       "      <td>1</td>\n",
       "      <td>7578363</td>\n",
       "      <td>7578363</td>\n",
       "      <td>7578363</td>\n",
       "      <td>7578363.0</td>\n",
       "      <td>0</td>\n",
       "      <td>0</td>\n",
       "      <td>0.0</td>\n",
       "      <td>1</td>\n",
       "      <td>...</td>\n",
       "      <td>908</td>\n",
       "      <td>908</td>\n",
       "      <td>5.0</td>\n",
       "      <td>5</td>\n",
       "      <td>5</td>\n",
       "      <td>2.0</td>\n",
       "      <td>2</td>\n",
       "      <td>2</td>\n",
       "      <td>SA</td>\n",
       "      <td>Cyber-Security Service</td>\n",
       "    </tr>\n",
       "    <tr>\n",
       "      <th>57199</th>\n",
       "      <td>bc1qzy5msku4xa9jwu8usskzp6tav4t8y3zclvp5ja</td>\n",
       "      <td>1</td>\n",
       "      <td>224443964</td>\n",
       "      <td>224443964</td>\n",
       "      <td>224443964</td>\n",
       "      <td>224443964.0</td>\n",
       "      <td>156</td>\n",
       "      <td>156</td>\n",
       "      <td>156.0</td>\n",
       "      <td>1</td>\n",
       "      <td>...</td>\n",
       "      <td>20167</td>\n",
       "      <td>20167</td>\n",
       "      <td>3.0</td>\n",
       "      <td>3</td>\n",
       "      <td>3</td>\n",
       "      <td>599.0</td>\n",
       "      <td>599</td>\n",
       "      <td>599</td>\n",
       "      <td>SA</td>\n",
       "      <td>Mining Pool</td>\n",
       "    </tr>\n",
       "  </tbody>\n",
       "</table>\n",
       "<p>57200 rows × 34 columns</p>\n",
       "</div>"
      ],
      "text/plain": [
       "                                          address  address_out_count  \\\n",
       "0              1129kyeRZLvvyt9wKXfszprCme5vUxPGEU                  1   \n",
       "1              112agXBu72qPgYErvqqEqgRropHacJfH2p                  1   \n",
       "2              112MpvBrfpEm6AQoUEZ6X5rGJDjCMWMzdU                  1   \n",
       "3              112THsEt2X7ih88ozzk9AraDCdyLT1Y7hT                  1   \n",
       "4              1138ue28jT9N8dVn3SXLuBc9jCEPziCGF9                  1   \n",
       "...                                           ...                ...   \n",
       "57195  bc1qyh4rgftkll4gc7nz9wd2qvtqnpftrs7dxhzvex                  1   \n",
       "57196  bc1qykuelp5454e78rf7e70q8qhtu5f5tm6sts066k                  1   \n",
       "57197  bc1qyv35fd7zz59mcdv9npan630mjnv4qlsqfhfhcz                  1   \n",
       "57198  bc1qz9em0y32zaywfjrsg4ze244fww9fhxh2c9crak                  1   \n",
       "57199  bc1qzy5msku4xa9jwu8usskzp6tav4t8y3zclvp5ja                  1   \n",
       "\n",
       "       sum_spent  max_spent  min_spent    avg_spent  max_index  min_index  \\\n",
       "0         187029     187029     187029     187029.0          2          2   \n",
       "1       20000000   20000000   20000000   20000000.0          0          0   \n",
       "2         120220     120220     120220     120220.0          0          0   \n",
       "3         784175     784175     784175     784175.0          1          1   \n",
       "4          35543      35543      35543      35543.0         43         43   \n",
       "...          ...        ...        ...          ...        ...        ...   \n",
       "57195  233874369  233874369  233874369  233874369.0        183        183   \n",
       "57196    1444984    1444984    1444984    1444984.0          0          0   \n",
       "57197    4121098    4121098    4121098    4121098.0          0          0   \n",
       "57198    7578363    7578363    7578363    7578363.0          0          0   \n",
       "57199  224443964  224443964  224443964  224443964.0        156        156   \n",
       "\n",
       "       avg_index  address_in_count  ...  tx_size_max  tx_size_min  \\\n",
       "0            2.0                 1  ...        44296        44296   \n",
       "1            0.0                 1  ...        14792        14792   \n",
       "2            0.0                 1  ...        21157        21157   \n",
       "3            1.0                 1  ...        44277        44277   \n",
       "4           43.0                 1  ...         7561         7561   \n",
       "...          ...               ...  ...          ...          ...   \n",
       "57195      183.0                 1  ...        13292        13292   \n",
       "57196        0.0                 1  ...        13695        13695   \n",
       "57197        0.0                 1  ...          735          735   \n",
       "57198        0.0                 1  ...          908          908   \n",
       "57199      156.0                 1  ...        20167        20167   \n",
       "\n",
       "       tx_num_of_inp_avg  tx_num_of_inp_max  tx_num_of_inp_min  \\\n",
       "0                  300.0                300                300   \n",
       "1                  100.0                100                100   \n",
       "2                  132.0                132                132   \n",
       "3                  300.0                300                300   \n",
       "4                   51.0                 51                 51   \n",
       "...                  ...                ...                ...   \n",
       "57195                2.0                  2                  2   \n",
       "57196                3.0                  3                  3   \n",
       "57197                4.0                  4                  4   \n",
       "57198                5.0                  5                  5   \n",
       "57199                3.0                  3                  3   \n",
       "\n",
       "       tx_num_of_out_avg  tx_num_of_out_max  tx_num_of_out_min  SW  \\\n",
       "0                    1.0                  1                  1  SA   \n",
       "1                    1.0                  1                  1  SA   \n",
       "2                    2.0                  2                  2  SA   \n",
       "3                    1.0                  1                  1  SA   \n",
       "4                    1.0                  1                  1  SA   \n",
       "...                  ...                ...                ...  ..   \n",
       "57195              395.0                395                395  SA   \n",
       "57196              402.0                402                402  SA   \n",
       "57197                2.0                  2                  2  SA   \n",
       "57198                2.0                  2                  2  SA   \n",
       "57199              599.0                599                599  SA   \n",
       "\n",
       "                        label  \n",
       "0                    Gambling  \n",
       "1                    Gambling  \n",
       "2      Cyber-Security Service  \n",
       "3                    Gambling  \n",
       "4      Cyber-Security Service  \n",
       "...                       ...  \n",
       "57195             Mining Pool  \n",
       "57196             Mining Pool  \n",
       "57197  Cyber-Security Service  \n",
       "57198  Cyber-Security Service  \n",
       "57199             Mining Pool  \n",
       "\n",
       "[57200 rows x 34 columns]"
      ]
     },
     "execution_count": 198,
     "metadata": {},
     "output_type": "execute_result"
    }
   ],
   "source": [
    "raw_features = pan.read_csv('raw_features.csv')\n",
    "raw_features"
   ]
  },
  {
   "cell_type": "markdown",
   "id": "b47e2aa2",
   "metadata": {},
   "source": [
    "## Removing unnecessary features"
   ]
  },
  {
   "cell_type": "code",
   "execution_count": 199,
   "id": "4897c52c",
   "metadata": {},
   "outputs": [
    {
     "data": {
      "text/html": [
       "<div>\n",
       "<style scoped>\n",
       "    .dataframe tbody tr th:only-of-type {\n",
       "        vertical-align: middle;\n",
       "    }\n",
       "\n",
       "    .dataframe tbody tr th {\n",
       "        vertical-align: top;\n",
       "    }\n",
       "\n",
       "    .dataframe thead th {\n",
       "        text-align: right;\n",
       "    }\n",
       "</style>\n",
       "<table border=\"1\" class=\"dataframe\">\n",
       "  <thead>\n",
       "    <tr style=\"text-align: right;\">\n",
       "      <th></th>\n",
       "      <th>address</th>\n",
       "      <th>address_out_count</th>\n",
       "      <th>sum_spent</th>\n",
       "      <th>max_spent</th>\n",
       "      <th>min_spent</th>\n",
       "      <th>avg_spent</th>\n",
       "      <th>address_in_count</th>\n",
       "      <th>sum_granted</th>\n",
       "      <th>max_granted</th>\n",
       "      <th>min_granted</th>\n",
       "      <th>...</th>\n",
       "      <th>tx_size_max</th>\n",
       "      <th>tx_size_min</th>\n",
       "      <th>tx_num_of_inp_avg</th>\n",
       "      <th>tx_num_of_inp_max</th>\n",
       "      <th>tx_num_of_inp_min</th>\n",
       "      <th>tx_num_of_out_avg</th>\n",
       "      <th>tx_num_of_out_max</th>\n",
       "      <th>tx_num_of_out_min</th>\n",
       "      <th>SW</th>\n",
       "      <th>label</th>\n",
       "    </tr>\n",
       "  </thead>\n",
       "  <tbody>\n",
       "    <tr>\n",
       "      <th>0</th>\n",
       "      <td>1129kyeRZLvvyt9wKXfszprCme5vUxPGEU</td>\n",
       "      <td>1</td>\n",
       "      <td>187029</td>\n",
       "      <td>187029</td>\n",
       "      <td>187029</td>\n",
       "      <td>187029.0</td>\n",
       "      <td>1</td>\n",
       "      <td>187029</td>\n",
       "      <td>187029</td>\n",
       "      <td>187029</td>\n",
       "      <td>...</td>\n",
       "      <td>44296</td>\n",
       "      <td>44296</td>\n",
       "      <td>300.0</td>\n",
       "      <td>300</td>\n",
       "      <td>300</td>\n",
       "      <td>1.0</td>\n",
       "      <td>1</td>\n",
       "      <td>1</td>\n",
       "      <td>SA</td>\n",
       "      <td>Gambling</td>\n",
       "    </tr>\n",
       "    <tr>\n",
       "      <th>1</th>\n",
       "      <td>112agXBu72qPgYErvqqEqgRropHacJfH2p</td>\n",
       "      <td>1</td>\n",
       "      <td>20000000</td>\n",
       "      <td>20000000</td>\n",
       "      <td>20000000</td>\n",
       "      <td>20000000.0</td>\n",
       "      <td>1</td>\n",
       "      <td>20000000</td>\n",
       "      <td>20000000</td>\n",
       "      <td>20000000</td>\n",
       "      <td>...</td>\n",
       "      <td>14792</td>\n",
       "      <td>14792</td>\n",
       "      <td>100.0</td>\n",
       "      <td>100</td>\n",
       "      <td>100</td>\n",
       "      <td>1.0</td>\n",
       "      <td>1</td>\n",
       "      <td>1</td>\n",
       "      <td>SA</td>\n",
       "      <td>Gambling</td>\n",
       "    </tr>\n",
       "    <tr>\n",
       "      <th>2</th>\n",
       "      <td>112MpvBrfpEm6AQoUEZ6X5rGJDjCMWMzdU</td>\n",
       "      <td>1</td>\n",
       "      <td>120220</td>\n",
       "      <td>120220</td>\n",
       "      <td>120220</td>\n",
       "      <td>120220.0</td>\n",
       "      <td>1</td>\n",
       "      <td>120220</td>\n",
       "      <td>120220</td>\n",
       "      <td>120220</td>\n",
       "      <td>...</td>\n",
       "      <td>21157</td>\n",
       "      <td>21157</td>\n",
       "      <td>132.0</td>\n",
       "      <td>132</td>\n",
       "      <td>132</td>\n",
       "      <td>2.0</td>\n",
       "      <td>2</td>\n",
       "      <td>2</td>\n",
       "      <td>SA</td>\n",
       "      <td>Cyber-Security Service</td>\n",
       "    </tr>\n",
       "    <tr>\n",
       "      <th>3</th>\n",
       "      <td>112THsEt2X7ih88ozzk9AraDCdyLT1Y7hT</td>\n",
       "      <td>1</td>\n",
       "      <td>784175</td>\n",
       "      <td>784175</td>\n",
       "      <td>784175</td>\n",
       "      <td>784175.0</td>\n",
       "      <td>1</td>\n",
       "      <td>784175</td>\n",
       "      <td>784175</td>\n",
       "      <td>784175</td>\n",
       "      <td>...</td>\n",
       "      <td>44277</td>\n",
       "      <td>44277</td>\n",
       "      <td>300.0</td>\n",
       "      <td>300</td>\n",
       "      <td>300</td>\n",
       "      <td>1.0</td>\n",
       "      <td>1</td>\n",
       "      <td>1</td>\n",
       "      <td>SA</td>\n",
       "      <td>Gambling</td>\n",
       "    </tr>\n",
       "    <tr>\n",
       "      <th>4</th>\n",
       "      <td>1138ue28jT9N8dVn3SXLuBc9jCEPziCGF9</td>\n",
       "      <td>1</td>\n",
       "      <td>35543</td>\n",
       "      <td>35543</td>\n",
       "      <td>35543</td>\n",
       "      <td>35543.0</td>\n",
       "      <td>1</td>\n",
       "      <td>35543</td>\n",
       "      <td>35543</td>\n",
       "      <td>35543</td>\n",
       "      <td>...</td>\n",
       "      <td>7561</td>\n",
       "      <td>7561</td>\n",
       "      <td>51.0</td>\n",
       "      <td>51</td>\n",
       "      <td>51</td>\n",
       "      <td>1.0</td>\n",
       "      <td>1</td>\n",
       "      <td>1</td>\n",
       "      <td>SA</td>\n",
       "      <td>Cyber-Security Service</td>\n",
       "    </tr>\n",
       "    <tr>\n",
       "      <th>...</th>\n",
       "      <td>...</td>\n",
       "      <td>...</td>\n",
       "      <td>...</td>\n",
       "      <td>...</td>\n",
       "      <td>...</td>\n",
       "      <td>...</td>\n",
       "      <td>...</td>\n",
       "      <td>...</td>\n",
       "      <td>...</td>\n",
       "      <td>...</td>\n",
       "      <td>...</td>\n",
       "      <td>...</td>\n",
       "      <td>...</td>\n",
       "      <td>...</td>\n",
       "      <td>...</td>\n",
       "      <td>...</td>\n",
       "      <td>...</td>\n",
       "      <td>...</td>\n",
       "      <td>...</td>\n",
       "      <td>...</td>\n",
       "      <td>...</td>\n",
       "    </tr>\n",
       "    <tr>\n",
       "      <th>57195</th>\n",
       "      <td>bc1qyh4rgftkll4gc7nz9wd2qvtqnpftrs7dxhzvex</td>\n",
       "      <td>1</td>\n",
       "      <td>233874369</td>\n",
       "      <td>233874369</td>\n",
       "      <td>233874369</td>\n",
       "      <td>233874369.0</td>\n",
       "      <td>1</td>\n",
       "      <td>233874369</td>\n",
       "      <td>233874369</td>\n",
       "      <td>233874369</td>\n",
       "      <td>...</td>\n",
       "      <td>13292</td>\n",
       "      <td>13292</td>\n",
       "      <td>2.0</td>\n",
       "      <td>2</td>\n",
       "      <td>2</td>\n",
       "      <td>395.0</td>\n",
       "      <td>395</td>\n",
       "      <td>395</td>\n",
       "      <td>SA</td>\n",
       "      <td>Mining Pool</td>\n",
       "    </tr>\n",
       "    <tr>\n",
       "      <th>57196</th>\n",
       "      <td>bc1qykuelp5454e78rf7e70q8qhtu5f5tm6sts066k</td>\n",
       "      <td>1</td>\n",
       "      <td>1444984</td>\n",
       "      <td>1444984</td>\n",
       "      <td>1444984</td>\n",
       "      <td>1444984.0</td>\n",
       "      <td>1</td>\n",
       "      <td>1444984</td>\n",
       "      <td>1444984</td>\n",
       "      <td>1444984</td>\n",
       "      <td>...</td>\n",
       "      <td>13695</td>\n",
       "      <td>13695</td>\n",
       "      <td>3.0</td>\n",
       "      <td>3</td>\n",
       "      <td>3</td>\n",
       "      <td>402.0</td>\n",
       "      <td>402</td>\n",
       "      <td>402</td>\n",
       "      <td>SA</td>\n",
       "      <td>Mining Pool</td>\n",
       "    </tr>\n",
       "    <tr>\n",
       "      <th>57197</th>\n",
       "      <td>bc1qyv35fd7zz59mcdv9npan630mjnv4qlsqfhfhcz</td>\n",
       "      <td>1</td>\n",
       "      <td>4121098</td>\n",
       "      <td>4121098</td>\n",
       "      <td>4121098</td>\n",
       "      <td>4121098.0</td>\n",
       "      <td>1</td>\n",
       "      <td>4121098</td>\n",
       "      <td>4121098</td>\n",
       "      <td>4121098</td>\n",
       "      <td>...</td>\n",
       "      <td>735</td>\n",
       "      <td>735</td>\n",
       "      <td>4.0</td>\n",
       "      <td>4</td>\n",
       "      <td>4</td>\n",
       "      <td>2.0</td>\n",
       "      <td>2</td>\n",
       "      <td>2</td>\n",
       "      <td>SA</td>\n",
       "      <td>Cyber-Security Service</td>\n",
       "    </tr>\n",
       "    <tr>\n",
       "      <th>57198</th>\n",
       "      <td>bc1qz9em0y32zaywfjrsg4ze244fww9fhxh2c9crak</td>\n",
       "      <td>1</td>\n",
       "      <td>7578363</td>\n",
       "      <td>7578363</td>\n",
       "      <td>7578363</td>\n",
       "      <td>7578363.0</td>\n",
       "      <td>1</td>\n",
       "      <td>7578363</td>\n",
       "      <td>7578363</td>\n",
       "      <td>7578363</td>\n",
       "      <td>...</td>\n",
       "      <td>908</td>\n",
       "      <td>908</td>\n",
       "      <td>5.0</td>\n",
       "      <td>5</td>\n",
       "      <td>5</td>\n",
       "      <td>2.0</td>\n",
       "      <td>2</td>\n",
       "      <td>2</td>\n",
       "      <td>SA</td>\n",
       "      <td>Cyber-Security Service</td>\n",
       "    </tr>\n",
       "    <tr>\n",
       "      <th>57199</th>\n",
       "      <td>bc1qzy5msku4xa9jwu8usskzp6tav4t8y3zclvp5ja</td>\n",
       "      <td>1</td>\n",
       "      <td>224443964</td>\n",
       "      <td>224443964</td>\n",
       "      <td>224443964</td>\n",
       "      <td>224443964.0</td>\n",
       "      <td>1</td>\n",
       "      <td>224443964</td>\n",
       "      <td>224443964</td>\n",
       "      <td>224443964</td>\n",
       "      <td>...</td>\n",
       "      <td>20167</td>\n",
       "      <td>20167</td>\n",
       "      <td>3.0</td>\n",
       "      <td>3</td>\n",
       "      <td>3</td>\n",
       "      <td>599.0</td>\n",
       "      <td>599</td>\n",
       "      <td>599</td>\n",
       "      <td>SA</td>\n",
       "      <td>Mining Pool</td>\n",
       "    </tr>\n",
       "  </tbody>\n",
       "</table>\n",
       "<p>57200 rows × 31 columns</p>\n",
       "</div>"
      ],
      "text/plain": [
       "                                          address  address_out_count  \\\n",
       "0              1129kyeRZLvvyt9wKXfszprCme5vUxPGEU                  1   \n",
       "1              112agXBu72qPgYErvqqEqgRropHacJfH2p                  1   \n",
       "2              112MpvBrfpEm6AQoUEZ6X5rGJDjCMWMzdU                  1   \n",
       "3              112THsEt2X7ih88ozzk9AraDCdyLT1Y7hT                  1   \n",
       "4              1138ue28jT9N8dVn3SXLuBc9jCEPziCGF9                  1   \n",
       "...                                           ...                ...   \n",
       "57195  bc1qyh4rgftkll4gc7nz9wd2qvtqnpftrs7dxhzvex                  1   \n",
       "57196  bc1qykuelp5454e78rf7e70q8qhtu5f5tm6sts066k                  1   \n",
       "57197  bc1qyv35fd7zz59mcdv9npan630mjnv4qlsqfhfhcz                  1   \n",
       "57198  bc1qz9em0y32zaywfjrsg4ze244fww9fhxh2c9crak                  1   \n",
       "57199  bc1qzy5msku4xa9jwu8usskzp6tav4t8y3zclvp5ja                  1   \n",
       "\n",
       "       sum_spent  max_spent  min_spent    avg_spent  address_in_count  \\\n",
       "0         187029     187029     187029     187029.0                 1   \n",
       "1       20000000   20000000   20000000   20000000.0                 1   \n",
       "2         120220     120220     120220     120220.0                 1   \n",
       "3         784175     784175     784175     784175.0                 1   \n",
       "4          35543      35543      35543      35543.0                 1   \n",
       "...          ...        ...        ...          ...               ...   \n",
       "57195  233874369  233874369  233874369  233874369.0                 1   \n",
       "57196    1444984    1444984    1444984    1444984.0                 1   \n",
       "57197    4121098    4121098    4121098    4121098.0                 1   \n",
       "57198    7578363    7578363    7578363    7578363.0                 1   \n",
       "57199  224443964  224443964  224443964  224443964.0                 1   \n",
       "\n",
       "       sum_granted  max_granted  min_granted  ...  tx_size_max  tx_size_min  \\\n",
       "0           187029       187029       187029  ...        44296        44296   \n",
       "1         20000000     20000000     20000000  ...        14792        14792   \n",
       "2           120220       120220       120220  ...        21157        21157   \n",
       "3           784175       784175       784175  ...        44277        44277   \n",
       "4            35543        35543        35543  ...         7561         7561   \n",
       "...            ...          ...          ...  ...          ...          ...   \n",
       "57195    233874369    233874369    233874369  ...        13292        13292   \n",
       "57196      1444984      1444984      1444984  ...        13695        13695   \n",
       "57197      4121098      4121098      4121098  ...          735          735   \n",
       "57198      7578363      7578363      7578363  ...          908          908   \n",
       "57199    224443964    224443964    224443964  ...        20167        20167   \n",
       "\n",
       "       tx_num_of_inp_avg  tx_num_of_inp_max  tx_num_of_inp_min  \\\n",
       "0                  300.0                300                300   \n",
       "1                  100.0                100                100   \n",
       "2                  132.0                132                132   \n",
       "3                  300.0                300                300   \n",
       "4                   51.0                 51                 51   \n",
       "...                  ...                ...                ...   \n",
       "57195                2.0                  2                  2   \n",
       "57196                3.0                  3                  3   \n",
       "57197                4.0                  4                  4   \n",
       "57198                5.0                  5                  5   \n",
       "57199                3.0                  3                  3   \n",
       "\n",
       "       tx_num_of_out_avg  tx_num_of_out_max  tx_num_of_out_min  SW  \\\n",
       "0                    1.0                  1                  1  SA   \n",
       "1                    1.0                  1                  1  SA   \n",
       "2                    2.0                  2                  2  SA   \n",
       "3                    1.0                  1                  1  SA   \n",
       "4                    1.0                  1                  1  SA   \n",
       "...                  ...                ...                ...  ..   \n",
       "57195              395.0                395                395  SA   \n",
       "57196              402.0                402                402  SA   \n",
       "57197                2.0                  2                  2  SA   \n",
       "57198                2.0                  2                  2  SA   \n",
       "57199              599.0                599                599  SA   \n",
       "\n",
       "                        label  \n",
       "0                    Gambling  \n",
       "1                    Gambling  \n",
       "2      Cyber-Security Service  \n",
       "3                    Gambling  \n",
       "4      Cyber-Security Service  \n",
       "...                       ...  \n",
       "57195             Mining Pool  \n",
       "57196             Mining Pool  \n",
       "57197  Cyber-Security Service  \n",
       "57198  Cyber-Security Service  \n",
       "57199             Mining Pool  \n",
       "\n",
       "[57200 rows x 31 columns]"
      ]
     },
     "execution_count": 199,
     "metadata": {},
     "output_type": "execute_result"
    }
   ],
   "source": [
    "raw_features = raw_features.drop(['max_index', 'min_index', 'avg_index'], axis=1)\n",
    "raw_features"
   ]
  },
  {
   "cell_type": "markdown",
   "id": "e0af8088",
   "metadata": {},
   "source": [
    "## Adding Balance feature"
   ]
  },
  {
   "cell_type": "code",
   "execution_count": 200,
   "id": "a45d25a4",
   "metadata": {},
   "outputs": [
    {
     "data": {
      "text/html": [
       "<div>\n",
       "<style scoped>\n",
       "    .dataframe tbody tr th:only-of-type {\n",
       "        vertical-align: middle;\n",
       "    }\n",
       "\n",
       "    .dataframe tbody tr th {\n",
       "        vertical-align: top;\n",
       "    }\n",
       "\n",
       "    .dataframe thead th {\n",
       "        text-align: right;\n",
       "    }\n",
       "</style>\n",
       "<table border=\"1\" class=\"dataframe\">\n",
       "  <thead>\n",
       "    <tr style=\"text-align: right;\">\n",
       "      <th></th>\n",
       "      <th>address</th>\n",
       "      <th>address_out_count</th>\n",
       "      <th>sum_spent</th>\n",
       "      <th>max_spent</th>\n",
       "      <th>min_spent</th>\n",
       "      <th>avg_spent</th>\n",
       "      <th>address_in_count</th>\n",
       "      <th>sum_granted</th>\n",
       "      <th>max_granted</th>\n",
       "      <th>min_granted</th>\n",
       "      <th>...</th>\n",
       "      <th>tx_size_min</th>\n",
       "      <th>tx_num_of_inp_avg</th>\n",
       "      <th>tx_num_of_inp_max</th>\n",
       "      <th>tx_num_of_inp_min</th>\n",
       "      <th>tx_num_of_out_avg</th>\n",
       "      <th>tx_num_of_out_max</th>\n",
       "      <th>tx_num_of_out_min</th>\n",
       "      <th>SW</th>\n",
       "      <th>label</th>\n",
       "      <th>balance</th>\n",
       "    </tr>\n",
       "  </thead>\n",
       "  <tbody>\n",
       "    <tr>\n",
       "      <th>0</th>\n",
       "      <td>1129kyeRZLvvyt9wKXfszprCme5vUxPGEU</td>\n",
       "      <td>1</td>\n",
       "      <td>187029</td>\n",
       "      <td>187029</td>\n",
       "      <td>187029</td>\n",
       "      <td>187029.0</td>\n",
       "      <td>1</td>\n",
       "      <td>187029</td>\n",
       "      <td>187029</td>\n",
       "      <td>187029</td>\n",
       "      <td>...</td>\n",
       "      <td>44296</td>\n",
       "      <td>300.0</td>\n",
       "      <td>300</td>\n",
       "      <td>300</td>\n",
       "      <td>1.0</td>\n",
       "      <td>1</td>\n",
       "      <td>1</td>\n",
       "      <td>SA</td>\n",
       "      <td>Gambling</td>\n",
       "      <td>0</td>\n",
       "    </tr>\n",
       "    <tr>\n",
       "      <th>1</th>\n",
       "      <td>112agXBu72qPgYErvqqEqgRropHacJfH2p</td>\n",
       "      <td>1</td>\n",
       "      <td>20000000</td>\n",
       "      <td>20000000</td>\n",
       "      <td>20000000</td>\n",
       "      <td>20000000.0</td>\n",
       "      <td>1</td>\n",
       "      <td>20000000</td>\n",
       "      <td>20000000</td>\n",
       "      <td>20000000</td>\n",
       "      <td>...</td>\n",
       "      <td>14792</td>\n",
       "      <td>100.0</td>\n",
       "      <td>100</td>\n",
       "      <td>100</td>\n",
       "      <td>1.0</td>\n",
       "      <td>1</td>\n",
       "      <td>1</td>\n",
       "      <td>SA</td>\n",
       "      <td>Gambling</td>\n",
       "      <td>0</td>\n",
       "    </tr>\n",
       "    <tr>\n",
       "      <th>2</th>\n",
       "      <td>112MpvBrfpEm6AQoUEZ6X5rGJDjCMWMzdU</td>\n",
       "      <td>1</td>\n",
       "      <td>120220</td>\n",
       "      <td>120220</td>\n",
       "      <td>120220</td>\n",
       "      <td>120220.0</td>\n",
       "      <td>1</td>\n",
       "      <td>120220</td>\n",
       "      <td>120220</td>\n",
       "      <td>120220</td>\n",
       "      <td>...</td>\n",
       "      <td>21157</td>\n",
       "      <td>132.0</td>\n",
       "      <td>132</td>\n",
       "      <td>132</td>\n",
       "      <td>2.0</td>\n",
       "      <td>2</td>\n",
       "      <td>2</td>\n",
       "      <td>SA</td>\n",
       "      <td>Cyber-Security Service</td>\n",
       "      <td>0</td>\n",
       "    </tr>\n",
       "    <tr>\n",
       "      <th>3</th>\n",
       "      <td>112THsEt2X7ih88ozzk9AraDCdyLT1Y7hT</td>\n",
       "      <td>1</td>\n",
       "      <td>784175</td>\n",
       "      <td>784175</td>\n",
       "      <td>784175</td>\n",
       "      <td>784175.0</td>\n",
       "      <td>1</td>\n",
       "      <td>784175</td>\n",
       "      <td>784175</td>\n",
       "      <td>784175</td>\n",
       "      <td>...</td>\n",
       "      <td>44277</td>\n",
       "      <td>300.0</td>\n",
       "      <td>300</td>\n",
       "      <td>300</td>\n",
       "      <td>1.0</td>\n",
       "      <td>1</td>\n",
       "      <td>1</td>\n",
       "      <td>SA</td>\n",
       "      <td>Gambling</td>\n",
       "      <td>0</td>\n",
       "    </tr>\n",
       "    <tr>\n",
       "      <th>4</th>\n",
       "      <td>1138ue28jT9N8dVn3SXLuBc9jCEPziCGF9</td>\n",
       "      <td>1</td>\n",
       "      <td>35543</td>\n",
       "      <td>35543</td>\n",
       "      <td>35543</td>\n",
       "      <td>35543.0</td>\n",
       "      <td>1</td>\n",
       "      <td>35543</td>\n",
       "      <td>35543</td>\n",
       "      <td>35543</td>\n",
       "      <td>...</td>\n",
       "      <td>7561</td>\n",
       "      <td>51.0</td>\n",
       "      <td>51</td>\n",
       "      <td>51</td>\n",
       "      <td>1.0</td>\n",
       "      <td>1</td>\n",
       "      <td>1</td>\n",
       "      <td>SA</td>\n",
       "      <td>Cyber-Security Service</td>\n",
       "      <td>0</td>\n",
       "    </tr>\n",
       "    <tr>\n",
       "      <th>...</th>\n",
       "      <td>...</td>\n",
       "      <td>...</td>\n",
       "      <td>...</td>\n",
       "      <td>...</td>\n",
       "      <td>...</td>\n",
       "      <td>...</td>\n",
       "      <td>...</td>\n",
       "      <td>...</td>\n",
       "      <td>...</td>\n",
       "      <td>...</td>\n",
       "      <td>...</td>\n",
       "      <td>...</td>\n",
       "      <td>...</td>\n",
       "      <td>...</td>\n",
       "      <td>...</td>\n",
       "      <td>...</td>\n",
       "      <td>...</td>\n",
       "      <td>...</td>\n",
       "      <td>...</td>\n",
       "      <td>...</td>\n",
       "      <td>...</td>\n",
       "    </tr>\n",
       "    <tr>\n",
       "      <th>57195</th>\n",
       "      <td>bc1qyh4rgftkll4gc7nz9wd2qvtqnpftrs7dxhzvex</td>\n",
       "      <td>1</td>\n",
       "      <td>233874369</td>\n",
       "      <td>233874369</td>\n",
       "      <td>233874369</td>\n",
       "      <td>233874369.0</td>\n",
       "      <td>1</td>\n",
       "      <td>233874369</td>\n",
       "      <td>233874369</td>\n",
       "      <td>233874369</td>\n",
       "      <td>...</td>\n",
       "      <td>13292</td>\n",
       "      <td>2.0</td>\n",
       "      <td>2</td>\n",
       "      <td>2</td>\n",
       "      <td>395.0</td>\n",
       "      <td>395</td>\n",
       "      <td>395</td>\n",
       "      <td>SA</td>\n",
       "      <td>Mining Pool</td>\n",
       "      <td>0</td>\n",
       "    </tr>\n",
       "    <tr>\n",
       "      <th>57196</th>\n",
       "      <td>bc1qykuelp5454e78rf7e70q8qhtu5f5tm6sts066k</td>\n",
       "      <td>1</td>\n",
       "      <td>1444984</td>\n",
       "      <td>1444984</td>\n",
       "      <td>1444984</td>\n",
       "      <td>1444984.0</td>\n",
       "      <td>1</td>\n",
       "      <td>1444984</td>\n",
       "      <td>1444984</td>\n",
       "      <td>1444984</td>\n",
       "      <td>...</td>\n",
       "      <td>13695</td>\n",
       "      <td>3.0</td>\n",
       "      <td>3</td>\n",
       "      <td>3</td>\n",
       "      <td>402.0</td>\n",
       "      <td>402</td>\n",
       "      <td>402</td>\n",
       "      <td>SA</td>\n",
       "      <td>Mining Pool</td>\n",
       "      <td>0</td>\n",
       "    </tr>\n",
       "    <tr>\n",
       "      <th>57197</th>\n",
       "      <td>bc1qyv35fd7zz59mcdv9npan630mjnv4qlsqfhfhcz</td>\n",
       "      <td>1</td>\n",
       "      <td>4121098</td>\n",
       "      <td>4121098</td>\n",
       "      <td>4121098</td>\n",
       "      <td>4121098.0</td>\n",
       "      <td>1</td>\n",
       "      <td>4121098</td>\n",
       "      <td>4121098</td>\n",
       "      <td>4121098</td>\n",
       "      <td>...</td>\n",
       "      <td>735</td>\n",
       "      <td>4.0</td>\n",
       "      <td>4</td>\n",
       "      <td>4</td>\n",
       "      <td>2.0</td>\n",
       "      <td>2</td>\n",
       "      <td>2</td>\n",
       "      <td>SA</td>\n",
       "      <td>Cyber-Security Service</td>\n",
       "      <td>0</td>\n",
       "    </tr>\n",
       "    <tr>\n",
       "      <th>57198</th>\n",
       "      <td>bc1qz9em0y32zaywfjrsg4ze244fww9fhxh2c9crak</td>\n",
       "      <td>1</td>\n",
       "      <td>7578363</td>\n",
       "      <td>7578363</td>\n",
       "      <td>7578363</td>\n",
       "      <td>7578363.0</td>\n",
       "      <td>1</td>\n",
       "      <td>7578363</td>\n",
       "      <td>7578363</td>\n",
       "      <td>7578363</td>\n",
       "      <td>...</td>\n",
       "      <td>908</td>\n",
       "      <td>5.0</td>\n",
       "      <td>5</td>\n",
       "      <td>5</td>\n",
       "      <td>2.0</td>\n",
       "      <td>2</td>\n",
       "      <td>2</td>\n",
       "      <td>SA</td>\n",
       "      <td>Cyber-Security Service</td>\n",
       "      <td>0</td>\n",
       "    </tr>\n",
       "    <tr>\n",
       "      <th>57199</th>\n",
       "      <td>bc1qzy5msku4xa9jwu8usskzp6tav4t8y3zclvp5ja</td>\n",
       "      <td>1</td>\n",
       "      <td>224443964</td>\n",
       "      <td>224443964</td>\n",
       "      <td>224443964</td>\n",
       "      <td>224443964.0</td>\n",
       "      <td>1</td>\n",
       "      <td>224443964</td>\n",
       "      <td>224443964</td>\n",
       "      <td>224443964</td>\n",
       "      <td>...</td>\n",
       "      <td>20167</td>\n",
       "      <td>3.0</td>\n",
       "      <td>3</td>\n",
       "      <td>3</td>\n",
       "      <td>599.0</td>\n",
       "      <td>599</td>\n",
       "      <td>599</td>\n",
       "      <td>SA</td>\n",
       "      <td>Mining Pool</td>\n",
       "      <td>0</td>\n",
       "    </tr>\n",
       "  </tbody>\n",
       "</table>\n",
       "<p>57200 rows × 32 columns</p>\n",
       "</div>"
      ],
      "text/plain": [
       "                                          address  address_out_count  \\\n",
       "0              1129kyeRZLvvyt9wKXfszprCme5vUxPGEU                  1   \n",
       "1              112agXBu72qPgYErvqqEqgRropHacJfH2p                  1   \n",
       "2              112MpvBrfpEm6AQoUEZ6X5rGJDjCMWMzdU                  1   \n",
       "3              112THsEt2X7ih88ozzk9AraDCdyLT1Y7hT                  1   \n",
       "4              1138ue28jT9N8dVn3SXLuBc9jCEPziCGF9                  1   \n",
       "...                                           ...                ...   \n",
       "57195  bc1qyh4rgftkll4gc7nz9wd2qvtqnpftrs7dxhzvex                  1   \n",
       "57196  bc1qykuelp5454e78rf7e70q8qhtu5f5tm6sts066k                  1   \n",
       "57197  bc1qyv35fd7zz59mcdv9npan630mjnv4qlsqfhfhcz                  1   \n",
       "57198  bc1qz9em0y32zaywfjrsg4ze244fww9fhxh2c9crak                  1   \n",
       "57199  bc1qzy5msku4xa9jwu8usskzp6tav4t8y3zclvp5ja                  1   \n",
       "\n",
       "       sum_spent  max_spent  min_spent    avg_spent  address_in_count  \\\n",
       "0         187029     187029     187029     187029.0                 1   \n",
       "1       20000000   20000000   20000000   20000000.0                 1   \n",
       "2         120220     120220     120220     120220.0                 1   \n",
       "3         784175     784175     784175     784175.0                 1   \n",
       "4          35543      35543      35543      35543.0                 1   \n",
       "...          ...        ...        ...          ...               ...   \n",
       "57195  233874369  233874369  233874369  233874369.0                 1   \n",
       "57196    1444984    1444984    1444984    1444984.0                 1   \n",
       "57197    4121098    4121098    4121098    4121098.0                 1   \n",
       "57198    7578363    7578363    7578363    7578363.0                 1   \n",
       "57199  224443964  224443964  224443964  224443964.0                 1   \n",
       "\n",
       "       sum_granted  max_granted  min_granted  ...  tx_size_min  \\\n",
       "0           187029       187029       187029  ...        44296   \n",
       "1         20000000     20000000     20000000  ...        14792   \n",
       "2           120220       120220       120220  ...        21157   \n",
       "3           784175       784175       784175  ...        44277   \n",
       "4            35543        35543        35543  ...         7561   \n",
       "...            ...          ...          ...  ...          ...   \n",
       "57195    233874369    233874369    233874369  ...        13292   \n",
       "57196      1444984      1444984      1444984  ...        13695   \n",
       "57197      4121098      4121098      4121098  ...          735   \n",
       "57198      7578363      7578363      7578363  ...          908   \n",
       "57199    224443964    224443964    224443964  ...        20167   \n",
       "\n",
       "       tx_num_of_inp_avg  tx_num_of_inp_max  tx_num_of_inp_min  \\\n",
       "0                  300.0                300                300   \n",
       "1                  100.0                100                100   \n",
       "2                  132.0                132                132   \n",
       "3                  300.0                300                300   \n",
       "4                   51.0                 51                 51   \n",
       "...                  ...                ...                ...   \n",
       "57195                2.0                  2                  2   \n",
       "57196                3.0                  3                  3   \n",
       "57197                4.0                  4                  4   \n",
       "57198                5.0                  5                  5   \n",
       "57199                3.0                  3                  3   \n",
       "\n",
       "       tx_num_of_out_avg  tx_num_of_out_max  tx_num_of_out_min  SW  \\\n",
       "0                    1.0                  1                  1  SA   \n",
       "1                    1.0                  1                  1  SA   \n",
       "2                    2.0                  2                  2  SA   \n",
       "3                    1.0                  1                  1  SA   \n",
       "4                    1.0                  1                  1  SA   \n",
       "...                  ...                ...                ...  ..   \n",
       "57195              395.0                395                395  SA   \n",
       "57196              402.0                402                402  SA   \n",
       "57197                2.0                  2                  2  SA   \n",
       "57198                2.0                  2                  2  SA   \n",
       "57199              599.0                599                599  SA   \n",
       "\n",
       "                        label  balance  \n",
       "0                    Gambling        0  \n",
       "1                    Gambling        0  \n",
       "2      Cyber-Security Service        0  \n",
       "3                    Gambling        0  \n",
       "4      Cyber-Security Service        0  \n",
       "...                       ...      ...  \n",
       "57195             Mining Pool        0  \n",
       "57196             Mining Pool        0  \n",
       "57197  Cyber-Security Service        0  \n",
       "57198  Cyber-Security Service        0  \n",
       "57199             Mining Pool        0  \n",
       "\n",
       "[57200 rows x 32 columns]"
      ]
     },
     "execution_count": 200,
     "metadata": {},
     "output_type": "execute_result"
    }
   ],
   "source": [
    "raw_features['balance'] = raw_features['sum_spent'] - raw_features['sum_granted']\n",
    "raw_features"
   ]
  },
  {
   "cell_type": "markdown",
   "id": "6f18a842",
   "metadata": {},
   "source": [
    "## Potential Features"
   ]
  },
  {
   "cell_type": "markdown",
   "id": "2574ee5f",
   "metadata": {},
   "source": [
    "### Standard deviations\n",
    "### Transaction rate(Time between two transactions)"
   ]
  },
  {
   "cell_type": "markdown",
   "id": "8c04a5ef",
   "metadata": {},
   "source": [
    "## Adding new features"
   ]
  },
  {
   "cell_type": "markdown",
   "id": "0936c1f2",
   "metadata": {},
   "source": [
    "### difference between outputs and inputs counts"
   ]
  },
  {
   "cell_type": "code",
   "execution_count": 201,
   "id": "335335aa",
   "metadata": {},
   "outputs": [],
   "source": [
    "raw_features['diff_in_out_count'] = raw_features['address_out_count'] - raw_features['address_in_count']"
   ]
  },
  {
   "cell_type": "markdown",
   "id": "c9e17bf7",
   "metadata": {},
   "source": [
    "### ratio of outputs and input counts/values"
   ]
  },
  {
   "cell_type": "code",
   "execution_count": 202,
   "id": "134a02c1",
   "metadata": {},
   "outputs": [],
   "source": [
    "raw_features['ratio_in_out_count'] = raw_features['address_in_count'] / raw_features['address_out_count']\n",
    "raw_features['ratio_in_out_values'] = raw_features['sum_granted'] / raw_features['sum_spent']"
   ]
  },
  {
   "cell_type": "markdown",
   "id": "6bcaebdd",
   "metadata": {},
   "source": [
    "### Input/output Min/Max difference"
   ]
  },
  {
   "cell_type": "code",
   "execution_count": 203,
   "id": "8c7c0609",
   "metadata": {},
   "outputs": [],
   "source": [
    "raw_features['range_spent'] = raw_features['max_spent'] - raw_features['min_spent']\n",
    "raw_features['range_granted'] = raw_features['max_granted'] - raw_features['min_granted']"
   ]
  },
  {
   "cell_type": "markdown",
   "id": "35bc43cb",
   "metadata": {},
   "source": [
    "### Input/Output Range to Sum Ratio"
   ]
  },
  {
   "cell_type": "code",
   "execution_count": 204,
   "id": "addb8b41",
   "metadata": {},
   "outputs": [],
   "source": [
    "raw_features['ratio_range_to_value_output'] = raw_features.range_spent / raw_features.sum_spent \n",
    "raw_features['ratio_range_to_value_input'] = raw_features.range_granted / raw_features.sum_granted"
   ]
  },
  {
   "cell_type": "markdown",
   "id": "4f0cad08",
   "metadata": {},
   "source": [
    "### Input/Output Index Range"
   ]
  },
  {
   "cell_type": "code",
   "execution_count": 205,
   "id": "e15fdba8",
   "metadata": {},
   "outputs": [],
   "source": [
    "raw_features['range_output_index'] = raw_features['max_output_index'] - raw_features['min_output_index']\n",
    "raw_features['range_input_index'] = raw_features['max_input_index'] - raw_features['min_input_index']"
   ]
  },
  {
   "cell_type": "markdown",
   "id": "3e392499",
   "metadata": {},
   "source": [
    "### Life Period"
   ]
  },
  {
   "cell_type": "code",
   "execution_count": 206,
   "id": "fcb80e13",
   "metadata": {},
   "outputs": [],
   "source": [
    "raw_features['life_period'] = raw_features['first_time_tx'] - raw_features['last_time_tx']"
   ]
  },
  {
   "cell_type": "markdown",
   "id": "abaf2a74",
   "metadata": {},
   "source": [
    "### Transaction-based Range"
   ]
  },
  {
   "cell_type": "code",
   "execution_count": 207,
   "id": "7bdb488a",
   "metadata": {},
   "outputs": [],
   "source": [
    "raw_features['range_tx_size'] = raw_features['tx_size_max'] - raw_features['tx_size_min']\n",
    "raw_features['range_tx_num_of_out'] = raw_features['tx_num_of_out_max'] - raw_features['tx_num_of_out_min']\n",
    "raw_features['range_tx_num_of_inp'] = raw_features['tx_num_of_inp_max'] - raw_features['tx_num_of_inp_min']"
   ]
  },
  {
   "cell_type": "code",
   "execution_count": 208,
   "id": "955bba85",
   "metadata": {},
   "outputs": [],
   "source": [
    "raw_features = raw_features.reset_index()\n",
    "raw_features = raw_features.drop('index', axis=1)"
   ]
  },
  {
   "cell_type": "markdown",
   "id": "0792e9d6",
   "metadata": {},
   "source": [
    "### Reorder columns"
   ]
  },
  {
   "cell_type": "code",
   "execution_count": 209,
   "id": "d49cde78",
   "metadata": {},
   "outputs": [],
   "source": [
    "cols = list(raw_features.columns)\n",
    "sw_index = cols.index('SW')\n",
    "label_index = cols.index('label')\n",
    "range_inp_index = cols.index('range_tx_num_of_inp')\n",
    "range_out_index = cols.index('range_tx_num_of_out')\n",
    "cols[sw_index], cols[range_out_index] = cols[range_out_index], cols[sw_index]\n",
    "cols[label_index], cols[range_inp_index] = cols[range_inp_index], cols[label_index]\n",
    "raw_features = raw_features[cols]"
   ]
  },
  {
   "cell_type": "markdown",
   "id": "adafe0a0",
   "metadata": {},
   "source": [
    "### making dataset for strongly addressed labels"
   ]
  },
  {
   "cell_type": "code",
   "execution_count": 214,
   "id": "6dbedf5d",
   "metadata": {},
   "outputs": [],
   "source": [
    "strongly_addressed_features = raw_features.loc[raw_features['SW'] == 'SA']"
   ]
  },
  {
   "cell_type": "code",
   "execution_count": 215,
   "id": "5be076a0",
   "metadata": {},
   "outputs": [
    {
     "data": {
      "text/plain": [
       "Centralized Exchange                    31252\n",
       "Gambling                                10729\n",
       "Cyber-Security Service                  10581\n",
       "Tumbler                                  1414\n",
       "Darknet Market                           1226\n",
       "P2P Financial Service                     924\n",
       "Mining Pool                               114\n",
       "P2P Financial Infrastructure Service       29\n",
       "Individual Wallet                           4\n",
       "Government Criminal Blacklist               2\n",
       "Ponzi Scheme                                2\n",
       "Name: label, dtype: int64"
      ]
     },
     "execution_count": 215,
     "metadata": {},
     "output_type": "execute_result"
    }
   ],
   "source": [
    "strongly_addressed_features.label.value_counts()"
   ]
  },
  {
   "cell_type": "code",
   "execution_count": 216,
   "id": "86de1080",
   "metadata": {},
   "outputs": [],
   "source": [
    "strongly_addressed_features = strongly_addressed_features.loc[\n",
    "    (strongly_addressed_features['label'] != 'Government Criminal Blacklist') & \n",
    "    (strongly_addressed_features['label'] != 'Ponzi Scheme') &\n",
    "    (strongly_addressed_features['label'] != 'Individual Wallet')]\n",
    "strongly_addressed_features = strongly_addressed_features.reset_index()\n",
    "strongly_addressed_features = strongly_addressed_features.drop(['SW', 'index'], axis=1)"
   ]
  },
  {
   "cell_type": "markdown",
   "id": "b8a90e23",
   "metadata": {},
   "source": [
    "### removing unbalanced labels"
   ]
  },
  {
   "cell_type": "code",
   "execution_count": 141,
   "id": "8a735ddf",
   "metadata": {},
   "outputs": [
    {
     "data": {
      "text/plain": [
       "Centralized Exchange                    31252\n",
       "Gambling                                10729\n",
       "Cyber-Security Service                  10581\n",
       "Tumbler                                  1548\n",
       "Darknet Market                           1226\n",
       "P2P Financial Service                     924\n",
       "Blackmail                                 643\n",
       "Individual Wallet                         150\n",
       "Mining Pool                               114\n",
       "P2P Financial Infrastructure Service       29\n",
       "Government Criminal Blacklist               2\n",
       "Ponzi Scheme                                2\n",
       "Name: label, dtype: int64"
      ]
     },
     "execution_count": 141,
     "metadata": {},
     "output_type": "execute_result"
    }
   ],
   "source": [
    "raw_features.label.value_counts()"
   ]
  },
  {
   "cell_type": "code",
   "execution_count": 142,
   "id": "eb0d559e",
   "metadata": {},
   "outputs": [],
   "source": [
    "raw_features = raw_features.loc[(raw_features['label'] != 'Government Criminal Blacklist') & (raw_features['label'] != 'Ponzi Scheme')]"
   ]
  },
  {
   "cell_type": "code",
   "execution_count": 144,
   "id": "747b7c6e",
   "metadata": {},
   "outputs": [
    {
     "data": {
      "text/html": [
       "<div>\n",
       "<style scoped>\n",
       "    .dataframe tbody tr th:only-of-type {\n",
       "        vertical-align: middle;\n",
       "    }\n",
       "\n",
       "    .dataframe tbody tr th {\n",
       "        vertical-align: top;\n",
       "    }\n",
       "\n",
       "    .dataframe thead th {\n",
       "        text-align: right;\n",
       "    }\n",
       "</style>\n",
       "<table border=\"1\" class=\"dataframe\">\n",
       "  <thead>\n",
       "    <tr style=\"text-align: right;\">\n",
       "      <th></th>\n",
       "      <th>address</th>\n",
       "      <th>address_out_count</th>\n",
       "      <th>sum_spent</th>\n",
       "      <th>max_spent</th>\n",
       "      <th>min_spent</th>\n",
       "      <th>avg_spent</th>\n",
       "      <th>address_in_count</th>\n",
       "      <th>sum_granted</th>\n",
       "      <th>max_granted</th>\n",
       "      <th>min_granted</th>\n",
       "      <th>...</th>\n",
       "      <th>ratio_in_out_values</th>\n",
       "      <th>range_spent</th>\n",
       "      <th>range_granted</th>\n",
       "      <th>ratio_range_to_value_output</th>\n",
       "      <th>ratio_range_to_value_input</th>\n",
       "      <th>range_output_index</th>\n",
       "      <th>range_input_index</th>\n",
       "      <th>life_period</th>\n",
       "      <th>range_tx_size</th>\n",
       "      <th>label</th>\n",
       "    </tr>\n",
       "  </thead>\n",
       "  <tbody>\n",
       "    <tr>\n",
       "      <th>0</th>\n",
       "      <td>1129kyeRZLvvyt9wKXfszprCme5vUxPGEU</td>\n",
       "      <td>1</td>\n",
       "      <td>187029</td>\n",
       "      <td>187029</td>\n",
       "      <td>187029</td>\n",
       "      <td>187029.0</td>\n",
       "      <td>1</td>\n",
       "      <td>187029</td>\n",
       "      <td>187029</td>\n",
       "      <td>187029</td>\n",
       "      <td>...</td>\n",
       "      <td>1.0</td>\n",
       "      <td>0</td>\n",
       "      <td>0</td>\n",
       "      <td>0.0</td>\n",
       "      <td>0.0</td>\n",
       "      <td>0</td>\n",
       "      <td>0</td>\n",
       "      <td>0</td>\n",
       "      <td>0</td>\n",
       "      <td>Gambling</td>\n",
       "    </tr>\n",
       "    <tr>\n",
       "      <th>1</th>\n",
       "      <td>112agXBu72qPgYErvqqEqgRropHacJfH2p</td>\n",
       "      <td>1</td>\n",
       "      <td>20000000</td>\n",
       "      <td>20000000</td>\n",
       "      <td>20000000</td>\n",
       "      <td>20000000.0</td>\n",
       "      <td>1</td>\n",
       "      <td>20000000</td>\n",
       "      <td>20000000</td>\n",
       "      <td>20000000</td>\n",
       "      <td>...</td>\n",
       "      <td>1.0</td>\n",
       "      <td>0</td>\n",
       "      <td>0</td>\n",
       "      <td>0.0</td>\n",
       "      <td>0.0</td>\n",
       "      <td>0</td>\n",
       "      <td>0</td>\n",
       "      <td>0</td>\n",
       "      <td>0</td>\n",
       "      <td>Gambling</td>\n",
       "    </tr>\n",
       "    <tr>\n",
       "      <th>2</th>\n",
       "      <td>112MpvBrfpEm6AQoUEZ6X5rGJDjCMWMzdU</td>\n",
       "      <td>1</td>\n",
       "      <td>120220</td>\n",
       "      <td>120220</td>\n",
       "      <td>120220</td>\n",
       "      <td>120220.0</td>\n",
       "      <td>1</td>\n",
       "      <td>120220</td>\n",
       "      <td>120220</td>\n",
       "      <td>120220</td>\n",
       "      <td>...</td>\n",
       "      <td>1.0</td>\n",
       "      <td>0</td>\n",
       "      <td>0</td>\n",
       "      <td>0.0</td>\n",
       "      <td>0.0</td>\n",
       "      <td>0</td>\n",
       "      <td>0</td>\n",
       "      <td>0</td>\n",
       "      <td>0</td>\n",
       "      <td>Cyber-Security Service</td>\n",
       "    </tr>\n",
       "    <tr>\n",
       "      <th>3</th>\n",
       "      <td>112THsEt2X7ih88ozzk9AraDCdyLT1Y7hT</td>\n",
       "      <td>1</td>\n",
       "      <td>784175</td>\n",
       "      <td>784175</td>\n",
       "      <td>784175</td>\n",
       "      <td>784175.0</td>\n",
       "      <td>1</td>\n",
       "      <td>784175</td>\n",
       "      <td>784175</td>\n",
       "      <td>784175</td>\n",
       "      <td>...</td>\n",
       "      <td>1.0</td>\n",
       "      <td>0</td>\n",
       "      <td>0</td>\n",
       "      <td>0.0</td>\n",
       "      <td>0.0</td>\n",
       "      <td>0</td>\n",
       "      <td>0</td>\n",
       "      <td>0</td>\n",
       "      <td>0</td>\n",
       "      <td>Gambling</td>\n",
       "    </tr>\n",
       "    <tr>\n",
       "      <th>4</th>\n",
       "      <td>1138ue28jT9N8dVn3SXLuBc9jCEPziCGF9</td>\n",
       "      <td>1</td>\n",
       "      <td>35543</td>\n",
       "      <td>35543</td>\n",
       "      <td>35543</td>\n",
       "      <td>35543.0</td>\n",
       "      <td>1</td>\n",
       "      <td>35543</td>\n",
       "      <td>35543</td>\n",
       "      <td>35543</td>\n",
       "      <td>...</td>\n",
       "      <td>1.0</td>\n",
       "      <td>0</td>\n",
       "      <td>0</td>\n",
       "      <td>0.0</td>\n",
       "      <td>0.0</td>\n",
       "      <td>0</td>\n",
       "      <td>0</td>\n",
       "      <td>0</td>\n",
       "      <td>0</td>\n",
       "      <td>Cyber-Security Service</td>\n",
       "    </tr>\n",
       "    <tr>\n",
       "      <th>...</th>\n",
       "      <td>...</td>\n",
       "      <td>...</td>\n",
       "      <td>...</td>\n",
       "      <td>...</td>\n",
       "      <td>...</td>\n",
       "      <td>...</td>\n",
       "      <td>...</td>\n",
       "      <td>...</td>\n",
       "      <td>...</td>\n",
       "      <td>...</td>\n",
       "      <td>...</td>\n",
       "      <td>...</td>\n",
       "      <td>...</td>\n",
       "      <td>...</td>\n",
       "      <td>...</td>\n",
       "      <td>...</td>\n",
       "      <td>...</td>\n",
       "      <td>...</td>\n",
       "      <td>...</td>\n",
       "      <td>...</td>\n",
       "      <td>...</td>\n",
       "    </tr>\n",
       "    <tr>\n",
       "      <th>57191</th>\n",
       "      <td>bc1qyh4rgftkll4gc7nz9wd2qvtqnpftrs7dxhzvex</td>\n",
       "      <td>1</td>\n",
       "      <td>233874369</td>\n",
       "      <td>233874369</td>\n",
       "      <td>233874369</td>\n",
       "      <td>233874369.0</td>\n",
       "      <td>1</td>\n",
       "      <td>233874369</td>\n",
       "      <td>233874369</td>\n",
       "      <td>233874369</td>\n",
       "      <td>...</td>\n",
       "      <td>1.0</td>\n",
       "      <td>0</td>\n",
       "      <td>0</td>\n",
       "      <td>0.0</td>\n",
       "      <td>0.0</td>\n",
       "      <td>0</td>\n",
       "      <td>0</td>\n",
       "      <td>0</td>\n",
       "      <td>0</td>\n",
       "      <td>Mining Pool</td>\n",
       "    </tr>\n",
       "    <tr>\n",
       "      <th>57192</th>\n",
       "      <td>bc1qykuelp5454e78rf7e70q8qhtu5f5tm6sts066k</td>\n",
       "      <td>1</td>\n",
       "      <td>1444984</td>\n",
       "      <td>1444984</td>\n",
       "      <td>1444984</td>\n",
       "      <td>1444984.0</td>\n",
       "      <td>1</td>\n",
       "      <td>1444984</td>\n",
       "      <td>1444984</td>\n",
       "      <td>1444984</td>\n",
       "      <td>...</td>\n",
       "      <td>1.0</td>\n",
       "      <td>0</td>\n",
       "      <td>0</td>\n",
       "      <td>0.0</td>\n",
       "      <td>0.0</td>\n",
       "      <td>0</td>\n",
       "      <td>0</td>\n",
       "      <td>0</td>\n",
       "      <td>0</td>\n",
       "      <td>Mining Pool</td>\n",
       "    </tr>\n",
       "    <tr>\n",
       "      <th>57193</th>\n",
       "      <td>bc1qyv35fd7zz59mcdv9npan630mjnv4qlsqfhfhcz</td>\n",
       "      <td>1</td>\n",
       "      <td>4121098</td>\n",
       "      <td>4121098</td>\n",
       "      <td>4121098</td>\n",
       "      <td>4121098.0</td>\n",
       "      <td>1</td>\n",
       "      <td>4121098</td>\n",
       "      <td>4121098</td>\n",
       "      <td>4121098</td>\n",
       "      <td>...</td>\n",
       "      <td>1.0</td>\n",
       "      <td>0</td>\n",
       "      <td>0</td>\n",
       "      <td>0.0</td>\n",
       "      <td>0.0</td>\n",
       "      <td>0</td>\n",
       "      <td>0</td>\n",
       "      <td>0</td>\n",
       "      <td>0</td>\n",
       "      <td>Cyber-Security Service</td>\n",
       "    </tr>\n",
       "    <tr>\n",
       "      <th>57194</th>\n",
       "      <td>bc1qz9em0y32zaywfjrsg4ze244fww9fhxh2c9crak</td>\n",
       "      <td>1</td>\n",
       "      <td>7578363</td>\n",
       "      <td>7578363</td>\n",
       "      <td>7578363</td>\n",
       "      <td>7578363.0</td>\n",
       "      <td>1</td>\n",
       "      <td>7578363</td>\n",
       "      <td>7578363</td>\n",
       "      <td>7578363</td>\n",
       "      <td>...</td>\n",
       "      <td>1.0</td>\n",
       "      <td>0</td>\n",
       "      <td>0</td>\n",
       "      <td>0.0</td>\n",
       "      <td>0.0</td>\n",
       "      <td>0</td>\n",
       "      <td>0</td>\n",
       "      <td>0</td>\n",
       "      <td>0</td>\n",
       "      <td>Cyber-Security Service</td>\n",
       "    </tr>\n",
       "    <tr>\n",
       "      <th>57195</th>\n",
       "      <td>bc1qzy5msku4xa9jwu8usskzp6tav4t8y3zclvp5ja</td>\n",
       "      <td>1</td>\n",
       "      <td>224443964</td>\n",
       "      <td>224443964</td>\n",
       "      <td>224443964</td>\n",
       "      <td>224443964.0</td>\n",
       "      <td>1</td>\n",
       "      <td>224443964</td>\n",
       "      <td>224443964</td>\n",
       "      <td>224443964</td>\n",
       "      <td>...</td>\n",
       "      <td>1.0</td>\n",
       "      <td>0</td>\n",
       "      <td>0</td>\n",
       "      <td>0.0</td>\n",
       "      <td>0.0</td>\n",
       "      <td>0</td>\n",
       "      <td>0</td>\n",
       "      <td>0</td>\n",
       "      <td>0</td>\n",
       "      <td>Mining Pool</td>\n",
       "    </tr>\n",
       "  </tbody>\n",
       "</table>\n",
       "<p>57196 rows × 44 columns</p>\n",
       "</div>"
      ],
      "text/plain": [
       "                                          address  address_out_count  \\\n",
       "0              1129kyeRZLvvyt9wKXfszprCme5vUxPGEU                  1   \n",
       "1              112agXBu72qPgYErvqqEqgRropHacJfH2p                  1   \n",
       "2              112MpvBrfpEm6AQoUEZ6X5rGJDjCMWMzdU                  1   \n",
       "3              112THsEt2X7ih88ozzk9AraDCdyLT1Y7hT                  1   \n",
       "4              1138ue28jT9N8dVn3SXLuBc9jCEPziCGF9                  1   \n",
       "...                                           ...                ...   \n",
       "57191  bc1qyh4rgftkll4gc7nz9wd2qvtqnpftrs7dxhzvex                  1   \n",
       "57192  bc1qykuelp5454e78rf7e70q8qhtu5f5tm6sts066k                  1   \n",
       "57193  bc1qyv35fd7zz59mcdv9npan630mjnv4qlsqfhfhcz                  1   \n",
       "57194  bc1qz9em0y32zaywfjrsg4ze244fww9fhxh2c9crak                  1   \n",
       "57195  bc1qzy5msku4xa9jwu8usskzp6tav4t8y3zclvp5ja                  1   \n",
       "\n",
       "       sum_spent  max_spent  min_spent    avg_spent  address_in_count  \\\n",
       "0         187029     187029     187029     187029.0                 1   \n",
       "1       20000000   20000000   20000000   20000000.0                 1   \n",
       "2         120220     120220     120220     120220.0                 1   \n",
       "3         784175     784175     784175     784175.0                 1   \n",
       "4          35543      35543      35543      35543.0                 1   \n",
       "...          ...        ...        ...          ...               ...   \n",
       "57191  233874369  233874369  233874369  233874369.0                 1   \n",
       "57192    1444984    1444984    1444984    1444984.0                 1   \n",
       "57193    4121098    4121098    4121098    4121098.0                 1   \n",
       "57194    7578363    7578363    7578363    7578363.0                 1   \n",
       "57195  224443964  224443964  224443964  224443964.0                 1   \n",
       "\n",
       "       sum_granted  max_granted  min_granted  ...  ratio_in_out_values  \\\n",
       "0           187029       187029       187029  ...                  1.0   \n",
       "1         20000000     20000000     20000000  ...                  1.0   \n",
       "2           120220       120220       120220  ...                  1.0   \n",
       "3           784175       784175       784175  ...                  1.0   \n",
       "4            35543        35543        35543  ...                  1.0   \n",
       "...            ...          ...          ...  ...                  ...   \n",
       "57191    233874369    233874369    233874369  ...                  1.0   \n",
       "57192      1444984      1444984      1444984  ...                  1.0   \n",
       "57193      4121098      4121098      4121098  ...                  1.0   \n",
       "57194      7578363      7578363      7578363  ...                  1.0   \n",
       "57195    224443964    224443964    224443964  ...                  1.0   \n",
       "\n",
       "       range_spent  range_granted  ratio_range_to_value_output  \\\n",
       "0                0              0                          0.0   \n",
       "1                0              0                          0.0   \n",
       "2                0              0                          0.0   \n",
       "3                0              0                          0.0   \n",
       "4                0              0                          0.0   \n",
       "...            ...            ...                          ...   \n",
       "57191            0              0                          0.0   \n",
       "57192            0              0                          0.0   \n",
       "57193            0              0                          0.0   \n",
       "57194            0              0                          0.0   \n",
       "57195            0              0                          0.0   \n",
       "\n",
       "       ratio_range_to_value_input  range_output_index  range_input_index  \\\n",
       "0                             0.0                   0                  0   \n",
       "1                             0.0                   0                  0   \n",
       "2                             0.0                   0                  0   \n",
       "3                             0.0                   0                  0   \n",
       "4                             0.0                   0                  0   \n",
       "...                           ...                 ...                ...   \n",
       "57191                         0.0                   0                  0   \n",
       "57192                         0.0                   0                  0   \n",
       "57193                         0.0                   0                  0   \n",
       "57194                         0.0                   0                  0   \n",
       "57195                         0.0                   0                  0   \n",
       "\n",
       "       life_period  range_tx_size                   label  \n",
       "0                0              0                Gambling  \n",
       "1                0              0                Gambling  \n",
       "2                0              0  Cyber-Security Service  \n",
       "3                0              0                Gambling  \n",
       "4                0              0  Cyber-Security Service  \n",
       "...            ...            ...                     ...  \n",
       "57191            0              0             Mining Pool  \n",
       "57192            0              0             Mining Pool  \n",
       "57193            0              0  Cyber-Security Service  \n",
       "57194            0              0  Cyber-Security Service  \n",
       "57195            0              0             Mining Pool  \n",
       "\n",
       "[57196 rows x 44 columns]"
      ]
     },
     "execution_count": 144,
     "metadata": {},
     "output_type": "execute_result"
    }
   ],
   "source": [
    "raw_features = raw_features.reset_index()\n",
    "raw_features = raw_features.drop(['SW', 'index'], axis=1)"
   ]
  },
  {
   "cell_type": "code",
   "execution_count": 155,
   "id": "d5d26fd5",
   "metadata": {},
   "outputs": [
    {
     "data": {
      "text/plain": [
       "Centralized Exchange                    31252\n",
       "Gambling                                10729\n",
       "Cyber-Security Service                  10581\n",
       "Tumbler                                  1548\n",
       "Darknet Market                           1226\n",
       "P2P Financial Service                     924\n",
       "Blackmail                                 643\n",
       "Individual Wallet                         150\n",
       "Mining Pool                               114\n",
       "P2P Financial Infrastructure Service       29\n",
       "Name: label, dtype: int64"
      ]
     },
     "execution_count": 155,
     "metadata": {},
     "output_type": "execute_result"
    }
   ],
   "source": [
    "raw_features.label.value_counts()"
   ]
  },
  {
   "cell_type": "markdown",
   "id": "66cda737",
   "metadata": {},
   "source": [
    "## Training Phase"
   ]
  },
  {
   "cell_type": "code",
   "execution_count": 240,
   "id": "e4216d3e",
   "metadata": {},
   "outputs": [],
   "source": [
    "train_test_data = pan.read_csv('prepared-features.csv')"
   ]
  },
  {
   "cell_type": "code",
   "execution_count": 241,
   "id": "d45ba48a",
   "metadata": {},
   "outputs": [],
   "source": [
    "train_test_features = train_test_data.drop(['address', 'label'], axis=1)\n",
    "train_test_labels = train_test_data['label']"
   ]
  },
  {
   "cell_type": "code",
   "execution_count": 242,
   "id": "a3c29782",
   "metadata": {},
   "outputs": [],
   "source": [
    "train_features, test_features, train_labels, test_labels = train_test_split(train_test_features, \n",
    "                            train_test_labels, train_size=0.6, random_state=111, stratify=train_test_labels)"
   ]
  },
  {
   "cell_type": "markdown",
   "id": "78f7711f",
   "metadata": {},
   "source": [
    "### On Weak+strongly labeled data"
   ]
  },
  {
   "cell_type": "markdown",
   "id": "090d9977",
   "metadata": {},
   "source": [
    "#### Using Decision tree classifier"
   ]
  },
  {
   "cell_type": "code",
   "execution_count": 264,
   "id": "d8846fae",
   "metadata": {},
   "outputs": [
    {
     "data": {
      "text/plain": [
       "array([0.95594406, 0.96223776, 0.96433566, 0.95477855, 0.95757576,\n",
       "       0.9568664 , 0.95709956, 0.95989741])"
      ]
     },
     "execution_count": 264,
     "metadata": {},
     "output_type": "execute_result"
    }
   ],
   "source": [
    "clf = DecisionTreeClassifier(random_state=None)\n",
    "cross_val_score(clf, train_features, train_labels, cv=8)"
   ]
  },
  {
   "cell_type": "code",
   "execution_count": 265,
   "id": "705ce8e3",
   "metadata": {},
   "outputs": [],
   "source": [
    "clf.fit(train_features, train_labels)\n",
    "predicted_labels = clf.predict(test_features)"
   ]
  },
  {
   "cell_type": "code",
   "execution_count": 266,
   "id": "42e6d023",
   "metadata": {},
   "outputs": [
    {
     "data": {
      "text/plain": [
       "0.9621486953101097"
      ]
     },
     "execution_count": 266,
     "metadata": {},
     "output_type": "execute_result"
    }
   ],
   "source": [
    "accuracy_score(test_labels, predicted_labels)"
   ]
  },
  {
   "cell_type": "code",
   "execution_count": 267,
   "id": "d67f49a0",
   "metadata": {},
   "outputs": [
    {
     "data": {
      "text/plain": [
       "array([0.46732673, 0.98899604, 0.94667451, 0.89361702, 0.97226107,\n",
       "       0.112     , 0.97777778, 0.57142857, 0.93296854, 0.82076237])"
      ]
     },
     "execution_count": 267,
     "metadata": {},
     "output_type": "execute_result"
    }
   ],
   "source": [
    "f1_score(test_labels, predicted_labels, average=None)"
   ]
  },
  {
   "cell_type": "code",
   "execution_count": 268,
   "id": "ae77b597",
   "metadata": {},
   "outputs": [
    {
     "data": {
      "text/plain": [
       "array([0.45914397, 0.98856092, 0.95014178, 0.9       , 0.97180801,\n",
       "       0.11666667, 0.95652174, 0.5       , 0.92162162, 0.8174475 ])"
      ]
     },
     "execution_count": 268,
     "metadata": {},
     "output_type": "execute_result"
    }
   ],
   "source": [
    "recall_score(test_labels, predicted_labels, average=None)"
   ]
  },
  {
   "cell_type": "code",
   "execution_count": 269,
   "id": "15d6ac35",
   "metadata": {},
   "outputs": [
    {
     "data": {
      "text/plain": [
       "array([0.47580645, 0.98943155, 0.94323247, 0.88732394, 0.97271455,\n",
       "       0.10769231, 1.        , 0.66666667, 0.94459834, 0.82410423])"
      ]
     },
     "execution_count": 269,
     "metadata": {},
     "output_type": "execute_result"
    }
   ],
   "source": [
    "precision_score(test_labels, predicted_labels, average=None)"
   ]
  },
  {
   "cell_type": "code",
   "execution_count": 270,
   "id": "bdec6c95",
   "metadata": {},
   "outputs": [
    {
     "data": {
      "image/png": "[encoded data removed]",
      "text/plain": [
       "<Figure size 1800x1800 with 2 Axes>"
      ]
     },
     "metadata": {
      "needs_background": "light"
     },
     "output_type": "display_data"
    }
   ],
   "source": [
    "fig, ax = plt.subplots(figsize=(25,25))\n",
    "ax.set_title(\"Confusion matrix of the decision tree model for strongly+weakly addressed\")\n",
    "disp = ConfusionMatrixDisplay.from_estimator(\n",
    "    clf,\n",
    "    test_features,\n",
    "    test_labels,\n",
    "    cmap=plt.cm.Blues,\n",
    "    ax=ax\n",
    ")"
   ]
  },
  {
   "cell_type": "markdown",
   "id": "41f2bff3",
   "metadata": {},
   "source": [
    "#### Using Random Forest classifier"
   ]
  },
  {
   "cell_type": "code",
   "execution_count": 271,
   "id": "fe71a337",
   "metadata": {},
   "outputs": [
    {
     "data": {
      "text/plain": [
       "array([0.97249417, 0.97086247, 0.97365967, 0.97179487, 0.96876457,\n",
       "       0.97108883, 0.97388669, 0.9722546 ])"
      ]
     },
     "execution_count": 271,
     "metadata": {},
     "output_type": "execute_result"
    }
   ],
   "source": [
    "dlf = RandomForestClassifier(random_state=None)\n",
    "cross_val_score(dlf, train_features, train_labels, cv=8)"
   ]
  },
  {
   "cell_type": "code",
   "execution_count": 272,
   "id": "5c21bd64",
   "metadata": {},
   "outputs": [],
   "source": [
    "dlf.fit(train_features, train_labels)\n",
    "predicted_labels_forest = dlf.predict(test_features)"
   ]
  },
  {
   "cell_type": "code",
   "execution_count": 273,
   "id": "5763751f",
   "metadata": {},
   "outputs": [
    {
     "data": {
      "text/plain": [
       "0.9736439529699724"
      ]
     },
     "execution_count": 273,
     "metadata": {},
     "output_type": "execute_result"
    }
   ],
   "source": [
    "accuracy_score(test_labels, predicted_labels_forest)"
   ]
  },
  {
   "cell_type": "code",
   "execution_count": 274,
   "id": "a1c36b7e",
   "metadata": {},
   "outputs": [
    {
     "data": {
      "text/plain": [
       "array([0.64344262, 0.99300588, 0.9591623 , 0.88482239, 0.98396468,\n",
       "       0.05797101, 0.97777778, 0.73684211, 0.95145631, 0.87377049])"
      ]
     },
     "execution_count": 274,
     "metadata": {},
     "output_type": "execute_result"
    }
   ],
   "source": [
    "f1_score(test_labels, predicted_labels_forest, average=None)"
   ]
  },
  {
   "cell_type": "code",
   "execution_count": 275,
   "id": "df368b0c",
   "metadata": {},
   "outputs": [
    {
     "data": {
      "image/png": "[encoded data removed]",
      "text/plain": [
       "<Figure size 1800x1800 with 2 Axes>"
      ]
     },
     "metadata": {
      "needs_background": "light"
     },
     "output_type": "display_data"
    }
   ],
   "source": [
    "fig, ax = plt.subplots(figsize=(25,25))\n",
    "ax.set_title(\"Confusion matrix of the random forest model for strongly+weakly addressed\")\n",
    "disp = ConfusionMatrixDisplay.from_estimator(\n",
    "    dlf,\n",
    "    test_features,\n",
    "    test_labels,\n",
    "    cmap=plt.cm.Blues,\n",
    "    ax=ax\n",
    ")"
   ]
  },
  {
   "cell_type": "markdown",
   "id": "bf5dd397",
   "metadata": {},
   "source": [
    "### On strongly labeled data"
   ]
  },
  {
   "cell_type": "markdown",
   "id": "73d4906f",
   "metadata": {},
   "source": [
    "#### Using decision tree classifier"
   ]
  },
  {
   "cell_type": "code",
   "execution_count": 220,
   "id": "2de0055d",
   "metadata": {},
   "outputs": [],
   "source": [
    "train_test_data_strong = pan.read_csv('prepared_features_strong.csv')"
   ]
  },
  {
   "cell_type": "code",
   "execution_count": 221,
   "id": "7431d6fb",
   "metadata": {},
   "outputs": [],
   "source": [
    "train_test_strong_features = train_test_data_strong.drop(['address', 'label'], axis=1)\n",
    "train_test_strong_labels = train_test_data_strong['label']"
   ]
  },
  {
   "cell_type": "code",
   "execution_count": 222,
   "id": "1cf57f15",
   "metadata": {},
   "outputs": [],
   "source": [
    "train_strong_features, test_strong_features, train_strong_labels, test_strong_labels = train_test_split(train_test_strong_features, \n",
    "            train_test_strong_labels, train_size=0.6, random_state=145, stratify=train_test_strong_labels)"
   ]
  },
  {
   "cell_type": "code",
   "execution_count": 276,
   "id": "ad25e09a",
   "metadata": {},
   "outputs": [
    {
     "data": {
      "text/plain": [
       "array([0.96398958, 0.96895735, 0.96445498, 0.96895735, 0.96279621,\n",
       "       0.96161137, 0.96895735, 0.96563981])"
      ]
     },
     "execution_count": 276,
     "metadata": {},
     "output_type": "execute_result"
    }
   ],
   "source": [
    "clf_strong = DecisionTreeClassifier(random_state=None)\n",
    "cross_val_score(clf_strong, train_strong_features, train_strong_labels, cv=8)"
   ]
  },
  {
   "cell_type": "code",
   "execution_count": 277,
   "id": "c7ece1f9",
   "metadata": {},
   "outputs": [],
   "source": [
    "clf_strong.fit(train_strong_features, train_strong_labels)\n",
    "predicted_strong_labels = clf_strong.predict(test_strong_features)"
   ]
  },
  {
   "cell_type": "code",
   "execution_count": 278,
   "id": "44928435",
   "metadata": {},
   "outputs": [
    {
     "data": {
      "text/plain": [
       "0.9674338013150879"
      ]
     },
     "execution_count": 278,
     "metadata": {},
     "output_type": "execute_result"
    }
   ],
   "source": [
    "accuracy_score(test_strong_labels, predicted_strong_labels)"
   ]
  },
  {
   "cell_type": "code",
   "execution_count": 279,
   "id": "c56cf3cf",
   "metadata": {},
   "outputs": [
    {
     "data": {
      "text/plain": [
       "array([0.98365242, 0.94034091, 0.88362513, 0.97847085, 1.        ,\n",
       "       0.77777778, 0.91083676, 0.83769634])"
      ]
     },
     "execution_count": 279,
     "metadata": {},
     "output_type": "execute_result"
    }
   ],
   "source": [
    "f1_score(test_strong_labels, predicted_strong_labels, average=None)"
   ]
  },
  {
   "cell_type": "code",
   "execution_count": 280,
   "id": "7737e57b",
   "metadata": {},
   "outputs": [
    {
     "data": {
      "text/plain": [
       "array([0.98432125, 0.93856333, 0.8755102 , 0.97949674, 1.        ,\n",
       "       0.63636364, 0.8972973 , 0.84805654])"
      ]
     },
     "execution_count": 280,
     "metadata": {},
     "output_type": "execute_result"
    }
   ],
   "source": [
    "recall_score(test_strong_labels, predicted_strong_labels, average=None)"
   ]
  },
  {
   "cell_type": "code",
   "execution_count": 281,
   "id": "418fed33",
   "metadata": {},
   "outputs": [
    {
     "data": {
      "text/plain": [
       "array([0.9829845 , 0.94212524, 0.89189189, 0.97744711, 1.        ,\n",
       "       1.        , 0.92479109, 0.82758621])"
      ]
     },
     "execution_count": 281,
     "metadata": {},
     "output_type": "execute_result"
    }
   ],
   "source": [
    "precision_score(test_strong_labels, predicted_strong_labels, average=None)"
   ]
  },
  {
   "cell_type": "code",
   "execution_count": 282,
   "id": "6bce662f",
   "metadata": {},
   "outputs": [
    {
     "data": {
      "image/png": "[encoded data removed]",
      "text/plain": [
       "<Figure size 1800x1800 with 2 Axes>"
      ]
     },
     "metadata": {
      "needs_background": "light"
     },
     "output_type": "display_data"
    }
   ],
   "source": [
    "fig, ax = plt.subplots(figsize=(25,25))\n",
    "ax.set_title(\"Confusion matrix of the decision tree model for strongly addressed\")\n",
    "disp = ConfusionMatrixDisplay.from_estimator(\n",
    "    clf_strong,\n",
    "    test_strong_features,\n",
    "    test_strong_labels,\n",
    "    cmap=plt.cm.Blues,\n",
    "    ax=ax\n",
    ")"
   ]
  },
  {
   "cell_type": "markdown",
   "id": "97c9f76a",
   "metadata": {},
   "source": [
    "#### Using random forest classifier"
   ]
  },
  {
   "cell_type": "code",
   "execution_count": 283,
   "id": "eb0a59a5",
   "metadata": {},
   "outputs": [
    {
     "data": {
      "text/plain": [
       "array([0.96920161, 0.97251185, 0.97488152, 0.96966825, 0.96777251,\n",
       "       0.96729858, 0.96848341, 0.97132701])"
      ]
     },
     "execution_count": 283,
     "metadata": {},
     "output_type": "execute_result"
    }
   ],
   "source": [
    "dlf_strong = RandomForestClassifier(random_state=None)\n",
    "cross_val_score(dlf_strong, train_strong_features, train_strong_labels, cv=8)"
   ]
  },
  {
   "cell_type": "code",
   "execution_count": 284,
   "id": "85b5dd16",
   "metadata": {},
   "outputs": [],
   "source": [
    "dlf_strong.fit(train_strong_features, train_strong_labels)\n",
    "predicted_labels_strong_forest = dlf_strong.predict(test_strong_features)"
   ]
  },
  {
   "cell_type": "code",
   "execution_count": 285,
   "id": "d9fcf6ae",
   "metadata": {},
   "outputs": [
    {
     "data": {
      "text/plain": [
       "0.9725430957881642"
      ]
     },
     "execution_count": 285,
     "metadata": {},
     "output_type": "execute_result"
    }
   ],
   "source": [
    "accuracy_score(test_strong_labels, predicted_labels_strong_forest)"
   ]
  },
  {
   "cell_type": "code",
   "execution_count": 286,
   "id": "2cfa71db",
   "metadata": {},
   "outputs": [
    {
     "data": {
      "text/plain": [
       "array([0.9881723 , 0.95055074, 0.83528162, 0.98258736, 1.        ,\n",
       "       0.625     , 0.93917963, 0.85564304])"
      ]
     },
     "execution_count": 286,
     "metadata": {},
     "output_type": "execute_result"
    }
   ],
   "source": [
    "f1_score(test_strong_labels, predicted_labels_strong_forest, average=None)"
   ]
  },
  {
   "cell_type": "code",
   "execution_count": 287,
   "id": "6dde497b",
   "metadata": {},
   "outputs": [
    {
     "data": {
      "text/plain": [
       "array([0.98912087, 0.9584121 , 0.80204082, 0.97949674, 1.        ,\n",
       "       0.45454545, 0.8972973 , 0.8639576 ])"
      ]
     },
     "execution_count": 287,
     "metadata": {},
     "output_type": "execute_result"
    }
   ],
   "source": [
    "recall_score(test_strong_labels, predicted_labels_strong_forest, average=None)"
   ]
  },
  {
   "cell_type": "code",
   "execution_count": 288,
   "id": "21a5f52d",
   "metadata": {},
   "outputs": [
    {
     "data": {
      "text/plain": [
       "array([0.98722555, 0.94281729, 0.8713969 , 0.98569754, 1.        ,\n",
       "       1.        , 0.9851632 , 0.847487  ])"
      ]
     },
     "execution_count": 288,
     "metadata": {},
     "output_type": "execute_result"
    }
   ],
   "source": [
    "precision_score(test_strong_labels, predicted_labels_strong_forest, average=None)"
   ]
  },
  {
   "cell_type": "code",
   "execution_count": 289,
   "id": "538b0a73",
   "metadata": {},
   "outputs": [
    {
     "data": {
      "image/png": "[encoded data removed]",
      "text/plain": [
       "<Figure size 1800x1800 with 2 Axes>"
      ]
     },
     "metadata": {
      "needs_background": "light"
     },
     "output_type": "display_data"
    }
   ],
   "source": [
    "fig, ax = plt.subplots(figsize=(25,25))\n",
    "ax.set_title(\"Confusion matrix of the random forest model for strongly addressed\")\n",
    "disp = ConfusionMatrixDisplay.from_estimator(\n",
    "    dlf_strong,\n",
    "    test_strong_features,\n",
    "    test_strong_labels,\n",
    "    cmap=plt.cm.Blues,\n",
    "    ax=ax\n",
    ")"
   ]
  }
 ],
 "metadata": {
  "kernelspec": {
   "display_name": "Python 3 (ipykernel)",
   "language": "python",
   "name": "python3"
  },
  "language_info": {
   "codemirror_mode": {
    "name": "ipython",
    "version": 3
   },
   "file_extension": ".py",
   "mimetype": "text/x-python",
   "name": "python",
   "nbconvert_exporter": "python",
   "pygments_lexer": "ipython3",
   "version": "3.9.7"
  }
 },
 "nbformat": 4,
 "nbformat_minor": 5
}
